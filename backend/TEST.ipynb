{
 "cells": [
  {
   "cell_type": "markdown",
   "id": "80225697",
   "metadata": {},
   "source": [
    "### Run this first to setup django in this notebook"
   ]
  },
  {
   "cell_type": "code",
   "execution_count": null,
   "id": "1fe2d356",
   "metadata": {},
   "outputs": [],
   "source": [
    "import os, django\n",
    "os.environ.setdefault(\"DJANGO_SETTINGS_MODULE\", \"backend.settings\")\n",
    "os.environ[\"DJANGO_ALLOW_ASYNC_UNSAFE\"] = \"true\"\n",
    "django.setup()"
   ]
  },
  {
   "cell_type": "markdown",
   "id": "f8f2ca18",
   "metadata": {},
   "source": [
    "### Import django assets"
   ]
  },
  {
   "cell_type": "code",
   "execution_count": null,
   "id": "7ed2d81e",
   "metadata": {},
   "outputs": [],
   "source": [
    "from weather.models import Entry"
   ]
  },
  {
   "cell_type": "markdown",
   "id": "c1bc169b",
   "metadata": {},
   "source": [
    "### Import other libraries"
   ]
  },
  {
   "cell_type": "code",
   "execution_count": null,
   "id": "89637159",
   "metadata": {},
   "outputs": [],
   "source": []
  },
  {
   "cell_type": "markdown",
   "id": "8a9b28ba",
   "metadata": {},
   "source": [
    "### Script starts here"
   ]
  },
  {
   "cell_type": "code",
   "execution_count": null,
   "id": "c37f49b3",
   "metadata": {},
   "outputs": [],
   "source": []
  }
 ],
 "metadata": {
  "kernelspec": {
   "display_name": "Django Shell-Plus",
   "language": "python",
   "name": "django_extensions"
  },
  "language_info": {
   "codemirror_mode": {
    "name": "ipython",
    "version": 3
   },
   "file_extension": ".py",
   "mimetype": "text/x-python",
   "name": "python",
   "nbconvert_exporter": "python",
   "pygments_lexer": "ipython3",
   "version": "3.11.2"
  }
 },
 "nbformat": 4,
 "nbformat_minor": 5
}
