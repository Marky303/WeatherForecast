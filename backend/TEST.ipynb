{
 "cells": [
  {
   "cell_type": "markdown",
   "id": "639580b3",
   "metadata": {},
   "source": [
    "### Run this first to setup django in this notebook"
   ]
  },
  {
   "cell_type": "code",
   "execution_count": 1,
   "id": "f1700cbe",
   "metadata": {},
   "outputs": [],
   "source": [
    "import os, django\n",
    "os.environ.setdefault(\"DJANGO_SETTINGS_MODULE\", \"backend.settings\")\n",
    "os.environ[\"DJANGO_ALLOW_ASYNC_UNSAFE\"] = \"true\"\n",
    "django.setup()"
   ]
  },
  {
   "cell_type": "markdown",
   "id": "d88ac487",
   "metadata": {},
   "source": [
    "### Import django assets"
   ]
  },
  {
   "cell_type": "code",
   "execution_count": 2,
   "id": "43e8cb98",
   "metadata": {},
   "outputs": [],
   "source": [
    "from weather.models import *\n",
    "from weather.tasks import *"
   ]
  },
  {
   "cell_type": "markdown",
   "id": "fef3d22f",
   "metadata": {},
   "source": [
    "### Import other libraries"
   ]
  },
  {
   "cell_type": "code",
   "execution_count": 3,
   "id": "a12a446f",
   "metadata": {},
   "outputs": [],
   "source": [
    "from datetime import datetime\n",
    "import datetime as dt\n",
    "import pandas as pd\n",
    "from django_pandas.io import read_frame\n",
    "\n",
    "from statsmodels.tsa.statespace.sarimax import SARIMAX"
   ]
  },
  {
   "cell_type": "markdown",
   "id": "c1a8d58a",
   "metadata": {},
   "source": [
    "### Global variables"
   ]
  },
  {
   "cell_type": "code",
   "execution_count": 4,
   "id": "13a637a0",
   "metadata": {},
   "outputs": [],
   "source": [
    "dimensions = ['temp', 'dwpt', 'rhum', 'wdir', 'wspd', 'pres']\n",
    "next_entry_count = 24"
   ]
  },
  {
   "cell_type": "markdown",
   "id": "94e53f62",
   "metadata": {},
   "source": [
    "### Script starts here"
   ]
  },
  {
   "cell_type": "code",
   "execution_count": null,
   "id": "343eee45",
   "metadata": {},
   "outputs": [
    {
     "name": "stderr",
     "output_type": "stream",
     "text": [
      "FutureWarning: DataFrame.fillna with 'method' is deprecated and will raise in a future version. Use obj.ffill() or obj.bfill() instead.\n",
      " 21%|█████████▏                                  | 13361/63563 [01:44<06:03, 138.21it/s]"
     ]
    }
   ],
   "source": [
    "update_entry()"
   ]
  },
  {
   "cell_type": "markdown",
   "id": "e23a94ce",
   "metadata": {},
   "source": [
    "### Check shape and nan values"
   ]
  },
  {
   "cell_type": "code",
   "execution_count": 109,
   "id": "4e2f9a19",
   "metadata": {},
   "outputs": [
    {
     "name": "stdout",
     "output_type": "stream",
     "text": [
      "28544\n"
     ]
    },
    {
     "data": {
      "text/plain": [
       "id      0\n",
       "time    0\n",
       "temp    0\n",
       "dwpt    0\n",
       "rhum    0\n",
       "wdir    0\n",
       "wspd    0\n",
       "pres    0\n",
       "coco    0\n",
       "dtype: int64"
      ]
     },
     "execution_count": 109,
     "metadata": {},
     "output_type": "execute_result"
    }
   ],
   "source": [
    "df = read_frame(Entry.objects.all())\n",
    "print(df.shape[0])\n",
    "df.isna().sum()"
   ]
  },
  {
   "cell_type": "code",
   "execution_count": 100,
   "id": "2bd3b1dd",
   "metadata": {},
   "outputs": [
    {
     "name": "stdout",
     "output_type": "stream",
     "text": [
      "Train set\n",
      "                           time  temp  dwpt  rhum   wdir  wspd    pres\n",
      "28520 2024-04-03 08:00:00+00:00  35.0  19.0  39.0  160.0   7.0  1007.0\n",
      "28521 2024-04-03 09:00:00+00:00  34.2  20.6  45.0   62.0  16.7  1006.4\n",
      "28522 2024-04-03 10:00:00+00:00  33.1  21.3  50.0   67.0  13.0  1006.9\n",
      "28523 2024-04-03 11:00:00+00:00  31.9  22.3  57.0   72.0  11.1  1007.3\n",
      "28524 2024-04-03 12:00:00+00:00  30.8  22.9  63.0   78.0   7.4  1007.8\n",
      "28525 2024-04-03 13:00:00+00:00  29.8  23.3  68.0   81.0   7.4  1008.5\n",
      "28526 2024-04-03 14:00:00+00:00  28.9  23.6  73.0   92.0   5.5  1009.2\n",
      "28527 2024-04-03 15:00:00+00:00  27.9  23.9  79.0  187.0   3.7  1009.9\n",
      "28528 2024-04-03 16:00:00+00:00  27.3  24.0  82.0  197.0   3.7  1009.7\n",
      "28529 2024-04-03 17:00:00+00:00  26.8  24.1  85.0  203.0   3.7  1009.4\n",
      "28530 2024-04-03 18:00:00+00:00  26.2  24.1  88.0  206.0   3.7  1009.1\n",
      "28531 2024-04-03 19:00:00+00:00  25.8  24.0  90.0  208.0   3.7  1008.9\n",
      "28532 2024-04-03 20:00:00+00:00  25.4  23.8  91.0  210.0   3.7  1008.7\n",
      "28533 2024-04-03 21:00:00+00:00  25.0  23.8  93.0  213.0   3.7  1008.5\n",
      "28534 2024-04-03 22:00:00+00:00  25.0  24.0  94.0  211.0   1.8  1008.9\n",
      "28535 2024-04-03 23:00:00+00:00  25.0  24.1  95.0  209.0   1.8  1009.4\n",
      "28536 2024-04-04 00:00:00+00:00  25.4  24.2  93.0  204.0   3.7  1009.9\n",
      "28537 2024-04-04 01:00:00+00:00  27.6  24.0  81.0  133.0   3.7  1010.3\n",
      "28538 2024-04-04 02:00:00+00:00  30.1  23.8  69.0  109.0   5.5  1010.7\n",
      "28539 2024-04-04 03:00:00+00:00  32.7  23.4  58.0  102.0   7.4  1011.1\n",
      "28540 2024-04-04 04:00:00+00:00  33.7  22.8  53.0   94.0   9.3  1010.3\n",
      "28541 2024-04-04 05:00:00+00:00  34.8  21.8  47.0   83.0   9.3  1009.5\n",
      "28542 2024-04-04 06:00:00+00:00  35.9  21.0  42.0   68.0  11.1  1008.7\n",
      "28543 2024-04-04 07:00:00+00:00  36.0  21.1  42.0   54.0  11.1  1008.0\n",
      "Test set prep\n",
      "                        time  temp  dwpt  rhum   wdir  wspd    pres\n",
      "0  2024-04-04 08:00:00+00:00  35.0  19.0  39.0  160.0   7.0  1007.0\n",
      "1  2024-04-04 09:00:00+00:00  34.2  20.6  45.0   62.0  16.7  1006.4\n",
      "2  2024-04-04 10:00:00+00:00  33.1  21.3  50.0   67.0  13.0  1006.9\n",
      "3  2024-04-04 11:00:00+00:00  31.9  22.3  57.0   72.0  11.1  1007.3\n",
      "4  2024-04-04 12:00:00+00:00  30.8  22.9  63.0   78.0   7.4  1007.8\n",
      "5  2024-04-04 13:00:00+00:00  29.8  23.3  68.0   81.0   7.4  1008.5\n",
      "6  2024-04-04 14:00:00+00:00  28.9  23.6  73.0   92.0   5.5  1009.2\n",
      "7  2024-04-04 15:00:00+00:00  27.9  23.9  79.0  187.0   3.7  1009.9\n",
      "8  2024-04-04 16:00:00+00:00  27.3  24.0  82.0  197.0   3.7  1009.7\n",
      "9  2024-04-04 17:00:00+00:00  26.8  24.1  85.0  203.0   3.7  1009.4\n",
      "10 2024-04-04 18:00:00+00:00  26.2  24.1  88.0  206.0   3.7  1009.1\n",
      "11 2024-04-04 19:00:00+00:00  25.8  24.0  90.0  208.0   3.7  1008.9\n",
      "12 2024-04-04 20:00:00+00:00  25.4  23.8  91.0  210.0   3.7  1008.7\n",
      "13 2024-04-04 21:00:00+00:00  25.0  23.8  93.0  213.0   3.7  1008.5\n",
      "14 2024-04-04 22:00:00+00:00  25.0  24.0  94.0  211.0   1.8  1008.9\n",
      "15 2024-04-04 23:00:00+00:00  25.0  24.1  95.0  209.0   1.8  1009.4\n",
      "16 2024-04-05 00:00:00+00:00  25.4  24.2  93.0  204.0   3.7  1009.9\n",
      "17 2024-04-05 01:00:00+00:00  27.6  24.0  81.0  133.0   3.7  1010.3\n",
      "18 2024-04-05 02:00:00+00:00  30.1  23.8  69.0  109.0   5.5  1010.7\n",
      "19 2024-04-05 03:00:00+00:00  32.7  23.4  58.0  102.0   7.4  1011.1\n",
      "20 2024-04-05 04:00:00+00:00  33.7  22.8  53.0   94.0   9.3  1010.3\n",
      "21 2024-04-05 05:00:00+00:00  34.8  21.8  47.0   83.0   9.3  1009.5\n",
      "22 2024-04-05 06:00:00+00:00  35.9  21.0  42.0   68.0  11.1  1008.7\n",
      "23 2024-04-05 07:00:00+00:00  36.0  21.1  42.0   54.0  11.1  1008.0\n"
     ]
    }
   ],
   "source": [
    "train_set = (read_frame(Entry.objects.all())[['time','temp','dwpt','rhum','wdir','wspd','pres']]).copy(deep=True)\n",
    "\n",
    "# Preparing predictions set\n",
    "predictions = (read_frame(Entry.objects.all().order_by('-id')[:next_entry_count])[['time','temp','dwpt','rhum','wdir','wspd','pres']]).copy(deep=True)\n",
    "predictions = predictions.sort_values(by='time')\n",
    "predictions.reset_index(drop=True, inplace=True)\n",
    "\n",
    "for index in range(0,len(predictions)):\n",
    "    predictions.loc[index, 'time'] += dt.timedelta(hours=next_entry_count)\n",
    "    \n",
    "# Test\n",
    "print(\"Train set\")\n",
    "print(train_set[len(train_set)-next_entry_count:])\n",
    "print(\"Test set prep\")\n",
    "print(predictions)"
   ]
  },
  {
   "cell_type": "code",
   "execution_count": 103,
   "id": "44e630c8",
   "metadata": {},
   "outputs": [
    {
     "name": "stderr",
     "output_type": "stream",
     "text": [
      "  0%|                                                            | 0/24 [00:00<?, ?it/s]\n"
     ]
    },
    {
     "ename": "TypeError",
     "evalue": "ufunc 'isnan' not supported for the input types, and the inputs could not be safely coerced to any supported types according to the casting rule ''safe''",
     "output_type": "error",
     "traceback": [
      "\u001b[1;31m---------------------------------------------------------------------------\u001b[0m",
      "\u001b[1;31mTypeError\u001b[0m                                 Traceback (most recent call last)",
      "Cell \u001b[1;32mIn[103], line 15\u001b[0m\n\u001b[0;32m     12\u001b[0m     train_set \u001b[38;5;241m=\u001b[39m pd\u001b[38;5;241m.\u001b[39mconcat([train_set, row_to_append], ignore_index\u001b[38;5;241m=\u001b[39m\u001b[38;5;28;01mTrue\u001b[39;00m)\n\u001b[0;32m     14\u001b[0m \u001b[38;5;66;03m# Init SARIMAX model\u001b[39;00m\n\u001b[1;32m---> 15\u001b[0m model \u001b[38;5;241m=\u001b[39m \u001b[43mSARIMAX\u001b[49m\u001b[43m(\u001b[49m\u001b[43mtrain_set\u001b[49m\u001b[43m[\u001b[49m\u001b[43mdimension\u001b[49m\u001b[43m]\u001b[49m\u001b[38;5;241;43m.\u001b[39;49m\u001b[43mvalues\u001b[49m\u001b[43m,\u001b[49m\u001b[43m \u001b[49m\u001b[43morder\u001b[49m\u001b[38;5;241;43m=\u001b[39;49m\u001b[43mnon_seasonal_component\u001b[49m\u001b[43m,\u001b[49m\u001b[43m \u001b[49m\u001b[43mseasonal_order\u001b[49m\u001b[38;5;241;43m=\u001b[39;49m\u001b[43mseasonal_component\u001b[49m\u001b[43m)\u001b[49m\n\u001b[0;32m     16\u001b[0m model_fit \u001b[38;5;241m=\u001b[39m model\u001b[38;5;241m.\u001b[39mfit()\n\u001b[0;32m     18\u001b[0m \u001b[38;5;66;03m# Making predictions\u001b[39;00m\n",
      "File \u001b[1;32m~\\Desktop\\dev\\KPDLweather\\env\\Lib\\site-packages\\statsmodels\\tsa\\statespace\\sarimax.py:328\u001b[0m, in \u001b[0;36mSARIMAX.__init__\u001b[1;34m(self, endog, exog, order, seasonal_order, trend, measurement_error, time_varying_regression, mle_regression, simple_differencing, enforce_stationarity, enforce_invertibility, hamilton_representation, concentrate_scale, trend_offset, use_exact_diffuse, dates, freq, missing, validate_specification, **kwargs)\u001b[0m\n\u001b[0;32m    318\u001b[0m \u001b[38;5;28;01mdef\u001b[39;00m \u001b[38;5;21m__init__\u001b[39m(\u001b[38;5;28mself\u001b[39m, endog, exog\u001b[38;5;241m=\u001b[39m\u001b[38;5;28;01mNone\u001b[39;00m, order\u001b[38;5;241m=\u001b[39m(\u001b[38;5;241m1\u001b[39m, \u001b[38;5;241m0\u001b[39m, \u001b[38;5;241m0\u001b[39m),\n\u001b[0;32m    319\u001b[0m              seasonal_order\u001b[38;5;241m=\u001b[39m(\u001b[38;5;241m0\u001b[39m, \u001b[38;5;241m0\u001b[39m, \u001b[38;5;241m0\u001b[39m, \u001b[38;5;241m0\u001b[39m), trend\u001b[38;5;241m=\u001b[39m\u001b[38;5;28;01mNone\u001b[39;00m,\n\u001b[0;32m    320\u001b[0m              measurement_error\u001b[38;5;241m=\u001b[39m\u001b[38;5;28;01mFalse\u001b[39;00m, time_varying_regression\u001b[38;5;241m=\u001b[39m\u001b[38;5;28;01mFalse\u001b[39;00m,\n\u001b[1;32m   (...)\u001b[0m\n\u001b[0;32m    325\u001b[0m              freq\u001b[38;5;241m=\u001b[39m\u001b[38;5;28;01mNone\u001b[39;00m, missing\u001b[38;5;241m=\u001b[39m\u001b[38;5;124m'\u001b[39m\u001b[38;5;124mnone\u001b[39m\u001b[38;5;124m'\u001b[39m, validate_specification\u001b[38;5;241m=\u001b[39m\u001b[38;5;28;01mTrue\u001b[39;00m,\n\u001b[0;32m    326\u001b[0m              \u001b[38;5;241m*\u001b[39m\u001b[38;5;241m*\u001b[39mkwargs):\n\u001b[1;32m--> 328\u001b[0m     \u001b[38;5;28mself\u001b[39m\u001b[38;5;241m.\u001b[39m_spec \u001b[38;5;241m=\u001b[39m \u001b[43mSARIMAXSpecification\u001b[49m\u001b[43m(\u001b[49m\n\u001b[0;32m    329\u001b[0m \u001b[43m        \u001b[49m\u001b[43mendog\u001b[49m\u001b[43m,\u001b[49m\u001b[43m \u001b[49m\u001b[43mexog\u001b[49m\u001b[38;5;241;43m=\u001b[39;49m\u001b[43mexog\u001b[49m\u001b[43m,\u001b[49m\u001b[43m \u001b[49m\u001b[43morder\u001b[49m\u001b[38;5;241;43m=\u001b[39;49m\u001b[43morder\u001b[49m\u001b[43m,\u001b[49m\u001b[43m \u001b[49m\u001b[43mseasonal_order\u001b[49m\u001b[38;5;241;43m=\u001b[39;49m\u001b[43mseasonal_order\u001b[49m\u001b[43m,\u001b[49m\n\u001b[0;32m    330\u001b[0m \u001b[43m        \u001b[49m\u001b[43mtrend\u001b[49m\u001b[38;5;241;43m=\u001b[39;49m\u001b[43mtrend\u001b[49m\u001b[43m,\u001b[49m\u001b[43m \u001b[49m\u001b[43menforce_stationarity\u001b[49m\u001b[38;5;241;43m=\u001b[39;49m\u001b[38;5;28;43;01mNone\u001b[39;49;00m\u001b[43m,\u001b[49m\u001b[43m \u001b[49m\u001b[43menforce_invertibility\u001b[49m\u001b[38;5;241;43m=\u001b[39;49m\u001b[38;5;28;43;01mNone\u001b[39;49;00m\u001b[43m,\u001b[49m\n\u001b[0;32m    331\u001b[0m \u001b[43m        \u001b[49m\u001b[43mconcentrate_scale\u001b[49m\u001b[38;5;241;43m=\u001b[39;49m\u001b[43mconcentrate_scale\u001b[49m\u001b[43m,\u001b[49m\u001b[43m \u001b[49m\u001b[43mdates\u001b[49m\u001b[38;5;241;43m=\u001b[39;49m\u001b[43mdates\u001b[49m\u001b[43m,\u001b[49m\u001b[43m \u001b[49m\u001b[43mfreq\u001b[49m\u001b[38;5;241;43m=\u001b[39;49m\u001b[43mfreq\u001b[49m\u001b[43m,\u001b[49m\n\u001b[0;32m    332\u001b[0m \u001b[43m        \u001b[49m\u001b[43mmissing\u001b[49m\u001b[38;5;241;43m=\u001b[39;49m\u001b[43mmissing\u001b[49m\u001b[43m,\u001b[49m\u001b[43m \u001b[49m\u001b[43mvalidate_specification\u001b[49m\u001b[38;5;241;43m=\u001b[39;49m\u001b[43mvalidate_specification\u001b[49m\u001b[43m)\u001b[49m\n\u001b[0;32m    333\u001b[0m     \u001b[38;5;28mself\u001b[39m\u001b[38;5;241m.\u001b[39m_params \u001b[38;5;241m=\u001b[39m SARIMAXParams(\u001b[38;5;28mself\u001b[39m\u001b[38;5;241m.\u001b[39m_spec)\n\u001b[0;32m    335\u001b[0m     \u001b[38;5;66;03m# Save given orders\u001b[39;00m\n",
      "File \u001b[1;32m~\\Desktop\\dev\\KPDLweather\\env\\Lib\\site-packages\\statsmodels\\tsa\\arima\\specification.py:458\u001b[0m, in \u001b[0;36mSARIMAXSpecification.__init__\u001b[1;34m(self, endog, exog, order, seasonal_order, ar_order, diff, ma_order, seasonal_ar_order, seasonal_diff, seasonal_ma_order, seasonal_periods, trend, enforce_stationarity, enforce_invertibility, concentrate_scale, trend_offset, dates, freq, missing, validate_specification)\u001b[0m\n\u001b[0;32m    452\u001b[0m \u001b[38;5;28;01mif\u001b[39;00m (validate_specification \u001b[38;5;129;01mand\u001b[39;00m \u001b[38;5;129;01mnot\u001b[39;00m faux_endog \u001b[38;5;129;01mand\u001b[39;00m\n\u001b[0;32m    453\u001b[0m         \u001b[38;5;28mself\u001b[39m\u001b[38;5;241m.\u001b[39mendog\u001b[38;5;241m.\u001b[39mndim \u001b[38;5;241m>\u001b[39m \u001b[38;5;241m1\u001b[39m \u001b[38;5;129;01mand\u001b[39;00m \u001b[38;5;28mself\u001b[39m\u001b[38;5;241m.\u001b[39mendog\u001b[38;5;241m.\u001b[39mshape[\u001b[38;5;241m1\u001b[39m] \u001b[38;5;241m>\u001b[39m \u001b[38;5;241m1\u001b[39m):\n\u001b[0;32m    454\u001b[0m     \u001b[38;5;28;01mraise\u001b[39;00m \u001b[38;5;167;01mValueError\u001b[39;00m(\u001b[38;5;124m'\u001b[39m\u001b[38;5;124mSARIMAX models require univariate `endog`. Got\u001b[39m\u001b[38;5;124m'\u001b[39m\n\u001b[0;32m    455\u001b[0m                      \u001b[38;5;124m'\u001b[39m\u001b[38;5;124m shape \u001b[39m\u001b[38;5;132;01m%s\u001b[39;00m\u001b[38;5;124m.\u001b[39m\u001b[38;5;124m'\u001b[39m \u001b[38;5;241m%\u001b[39m \u001b[38;5;28mstr\u001b[39m(\u001b[38;5;28mself\u001b[39m\u001b[38;5;241m.\u001b[39mendog\u001b[38;5;241m.\u001b[39mshape))\n\u001b[0;32m    457\u001b[0m \u001b[38;5;28mself\u001b[39m\u001b[38;5;241m.\u001b[39m_has_missing \u001b[38;5;241m=\u001b[39m (\n\u001b[1;32m--> 458\u001b[0m     \u001b[38;5;28;01mNone\u001b[39;00m \u001b[38;5;28;01mif\u001b[39;00m faux_endog \u001b[38;5;28;01melse\u001b[39;00m np\u001b[38;5;241m.\u001b[39many(\u001b[43mnp\u001b[49m\u001b[38;5;241;43m.\u001b[39;49m\u001b[43misnan\u001b[49m\u001b[43m(\u001b[49m\u001b[38;5;28;43mself\u001b[39;49m\u001b[38;5;241;43m.\u001b[39;49m\u001b[43mendog\u001b[49m\u001b[43m)\u001b[49m))\n",
      "\u001b[1;31mTypeError\u001b[0m: ufunc 'isnan' not supported for the input types, and the inputs could not be safely coerced to any supported types according to the casting rule ''safe''"
     ]
    }
   ],
   "source": [
    "# Implement rolling SARIMAX\n",
    "\n",
    "# Setting SARIMAX order\n",
    "non_seasonal_component = (0,1,0)\n",
    "seasonal_component = (1, 0, 1, 24)\n",
    "\n",
    "# Init rolling SARIMA\n",
    "for index in tqdm(range(0,next_entry_count)):\n",
    "    for dimension in dimensions:\n",
    "        if (index!=0):\n",
    "            row_to_append = predictions.iloc[[index-1]]\n",
    "            train_set = pd.concat([train_set, row_to_append], ignore_index=True)\n",
    "\n",
    "        # Init SARIMAX model\n",
    "        model = SARIMAX(train_set[dimension].values, order=non_seasonal_component, seasonal_order=seasonal_component)\n",
    "        model_fit = model.fit()\n",
    "\n",
    "        # Making predictions\n",
    "        prediction = model_fit.forecast()\n",
    "        predictions.loc[index, dimension] = prediction\n",
    "        \n",
    "        "
   ]
  },
  {
   "cell_type": "code",
   "execution_count": 85,
   "id": "91b647d4",
   "metadata": {},
   "outputs": [
    {
     "name": "stdout",
     "output_type": "stream",
     "text": [
      "                       time  temp  dwpt  rhum   wdir wspd    pres\n",
      "0 2024-04-02 22:00:00+00:00  25.7  24.7  94.0  214.0  3.7  1008.8\n",
      "                           time  temp  dwpt  rhum   wdir  wspd    pres\n",
      "0     2021-01-01 00:00:00+00:00  23.0  16.1  65.0   20.0  11.2  1012.0\n",
      "1     2021-01-01 01:00:00+00:00  23.0  16.1  65.0   10.0   7.6  1013.0\n",
      "2     2021-01-01 02:00:00+00:00  24.0  16.0  61.0   10.0   7.6  1013.0\n",
      "3     2021-01-01 03:00:00+00:00  26.0  16.0  54.0   40.0  11.2  1013.0\n",
      "4     2021-01-01 04:00:00+00:00  28.0  16.0  48.0   40.0  11.2  1013.0\n",
      "...                         ...   ...   ...   ...    ...   ...     ...\n",
      "28506 2024-04-02 18:00:00+00:00  26.2  24.4  90.0  243.0   1.8  1009.5\n",
      "28507 2024-04-02 19:00:00+00:00  25.9  24.3  91.0  240.0   1.8  1009.3\n",
      "28508 2024-04-02 20:00:00+00:00  25.5  24.3  93.0  235.0   1.8  1009.1\n",
      "28509 2024-04-02 21:00:00+00:00  25.2  24.0  93.0  224.0   1.8  1008.9\n",
      "28510 2024-04-02 22:00:00+00:00  25.7  24.7  94.0  214.0   3.7  1008.8\n",
      "\n",
      "[28511 rows x 7 columns]\n"
     ]
    }
   ],
   "source": [
    "row_to_append = predictions.iloc[[0]]\n",
    "print(row_to_append)\n",
    "train_set = pd.concat([train_set, row_to_append], ignore_index=True)\n",
    "print(train_set)"
   ]
  },
  {
   "cell_type": "code",
   "execution_count": null,
   "id": "6a66a9c3",
   "metadata": {},
   "outputs": [],
   "source": []
  }
 ],
 "metadata": {
  "kernelspec": {
   "display_name": "Django Shell-Plus",
   "language": "python",
   "name": "django_extensions"
  },
  "language_info": {
   "codemirror_mode": {
    "name": "ipython",
    "version": 3
   },
   "file_extension": ".py",
   "mimetype": "text/x-python",
   "name": "python",
   "nbconvert_exporter": "python",
   "pygments_lexer": "ipython3",
   "version": "3.11.2"
  }
 },
 "nbformat": 4,
 "nbformat_minor": 5
}
