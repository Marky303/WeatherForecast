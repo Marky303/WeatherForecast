{
 "cells": [
  {
   "cell_type": "markdown",
   "id": "639580b3",
   "metadata": {},
   "source": [
    "### Run this first to setup django in this notebook"
   ]
  },
  {
   "cell_type": "code",
   "execution_count": 80,
   "id": "f1700cbe",
   "metadata": {},
   "outputs": [],
   "source": [
    "import os, django\n",
    "os.environ.setdefault(\"DJANGO_SETTINGS_MODULE\", \"backend.settings\")\n",
    "os.environ[\"DJANGO_ALLOW_ASYNC_UNSAFE\"] = \"true\"\n",
    "django.setup()"
   ]
  },
  {
   "cell_type": "markdown",
   "id": "d88ac487",
   "metadata": {},
   "source": [
    "### Import django assets"
   ]
  },
  {
   "cell_type": "code",
   "execution_count": 81,
   "id": "43e8cb98",
   "metadata": {},
   "outputs": [],
   "source": [
    "from weather.models import *\n",
    "from weather.tasks import *"
   ]
  },
  {
   "cell_type": "markdown",
   "id": "fef3d22f",
   "metadata": {},
   "source": [
    "### Import other libraries"
   ]
  },
  {
   "cell_type": "code",
   "execution_count": 82,
   "id": "a12a446f",
   "metadata": {},
   "outputs": [],
   "source": [
    "from datetime import datetime\n",
    "import datetime as dt\n",
    "import pandas as pd\n",
    "from django_pandas.io import read_frame\n",
    "\n",
    "from statsmodels.tsa.statespace.sarimax import SARIMAX"
   ]
  },
  {
   "cell_type": "markdown",
   "id": "c1a8d58a",
   "metadata": {},
   "source": [
    "### Global variables"
   ]
  },
  {
   "cell_type": "code",
   "execution_count": 83,
   "id": "13a637a0",
   "metadata": {},
   "outputs": [],
   "source": [
    "dimensions = ['temp', 'dwpt', 'rhum', 'wdir', 'wspd', 'pres']\n",
    "next_entry_count = 24"
   ]
  },
  {
   "cell_type": "markdown",
   "id": "94e53f62",
   "metadata": {},
   "source": [
    "### Script starts here"
   ]
  },
  {
   "cell_type": "code",
   "execution_count": 84,
   "id": "2bd3b1dd",
   "metadata": {},
   "outputs": [
    {
     "name": "stdout",
     "output_type": "stream",
     "text": [
      "Train set\n",
      "                           time  temp  dwpt  rhum   wdir  wspd    pres\n",
      "28486 2024-04-01 22:00:00+00:00  25.7  24.7  94.0  214.0   3.7  1008.8\n",
      "28487 2024-04-01 23:00:00+00:00  25.7  25.0  96.0  213.0   3.7  1009.3\n",
      "28488 2024-04-02 00:00:00+00:00  25.9  25.0  95.0  196.0   3.7  1009.6\n",
      "28489 2024-04-02 01:00:00+00:00  27.9  24.9  84.0  160.0   3.7  1010.2\n",
      "28490 2024-04-02 02:00:00+00:00  30.1  24.5  72.0  132.0   5.5  1010.6\n",
      "28491 2024-04-02 03:00:00+00:00  32.2  24.3  63.0  120.0   5.5  1011.1\n",
      "28492 2024-04-02 04:00:00+00:00  33.3  23.6  57.0  118.0   7.4  1010.3\n",
      "28493 2024-04-02 05:00:00+00:00  34.4  22.8  51.0  114.0   9.3  1009.6\n",
      "28494 2024-04-02 06:00:00+00:00  35.6  22.2  46.0  102.0   9.3  1008.8\n",
      "28495 2024-04-02 07:00:00+00:00  35.2  22.2  47.0   56.0  11.1  1008.1\n",
      "28496 2024-04-02 08:00:00+00:00  34.9  22.3  48.0   40.0  11.1  1007.4\n",
      "28497 2024-04-02 09:00:00+00:00  34.6  22.3  49.0   34.0  13.0  1006.7\n",
      "28498 2024-04-02 10:00:00+00:00  33.0  23.1  56.0   46.0  11.1  1007.2\n",
      "28499 2024-04-02 11:00:00+00:00  31.5  23.6  63.0   58.0   9.3  1007.7\n",
      "28500 2024-04-02 12:00:00+00:00  30.0  23.9  70.0   69.0   5.5  1008.2\n",
      "28501 2024-04-02 13:00:00+00:00  29.2  24.3  75.0   68.0   5.5  1008.8\n",
      "28502 2024-04-02 14:00:00+00:00  28.4  24.4  79.0   62.0   5.5  1009.5\n",
      "28503 2024-04-02 15:00:00+00:00  27.7  24.5  83.0  251.0   3.7  1010.1\n",
      "28504 2024-04-02 16:00:00+00:00  27.2  24.7  86.0  248.0   3.7  1009.9\n",
      "28505 2024-04-02 17:00:00+00:00  26.7  24.5  88.0  245.0   3.7  1009.7\n",
      "28506 2024-04-02 18:00:00+00:00  26.2  24.4  90.0  243.0   1.8  1009.5\n",
      "28507 2024-04-02 19:00:00+00:00  25.9  24.3  91.0  240.0   1.8  1009.3\n",
      "28508 2024-04-02 20:00:00+00:00  25.5  24.3  93.0  235.0   1.8  1009.1\n",
      "28509 2024-04-02 21:00:00+00:00  25.2  24.0  93.0  224.0   1.8  1008.9\n",
      "Test set prep\n",
      "                        time  temp  dwpt  rhum   wdir  wspd    pres\n",
      "0  2024-04-02 22:00:00+00:00  25.7  24.7  94.0  214.0   3.7  1008.8\n",
      "1  2024-04-02 23:00:00+00:00  25.7  25.0  96.0  213.0   3.7  1009.3\n",
      "2  2024-04-03 00:00:00+00:00  25.9  25.0  95.0  196.0   3.7  1009.6\n",
      "3  2024-04-03 01:00:00+00:00  27.9  24.9  84.0  160.0   3.7  1010.2\n",
      "4  2024-04-03 02:00:00+00:00  30.1  24.5  72.0  132.0   5.5  1010.6\n",
      "5  2024-04-03 03:00:00+00:00  32.2  24.3  63.0  120.0   5.5  1011.1\n",
      "6  2024-04-03 04:00:00+00:00  33.3  23.6  57.0  118.0   7.4  1010.3\n",
      "7  2024-04-03 05:00:00+00:00  34.4  22.8  51.0  114.0   9.3  1009.6\n",
      "8  2024-04-03 06:00:00+00:00  35.6  22.2  46.0  102.0   9.3  1008.8\n",
      "9  2024-04-03 07:00:00+00:00  35.2  22.2  47.0   56.0  11.1  1008.1\n",
      "10 2024-04-03 08:00:00+00:00  34.9  22.3  48.0   40.0  11.1  1007.4\n",
      "11 2024-04-03 09:00:00+00:00  34.6  22.3  49.0   34.0  13.0  1006.7\n",
      "12 2024-04-03 10:00:00+00:00  33.0  23.1  56.0   46.0  11.1  1007.2\n",
      "13 2024-04-03 11:00:00+00:00  31.5  23.6  63.0   58.0   9.3  1007.7\n",
      "14 2024-04-03 12:00:00+00:00  30.0  23.9  70.0   69.0   5.5  1008.2\n",
      "15 2024-04-03 13:00:00+00:00  29.2  24.3  75.0   68.0   5.5  1008.8\n",
      "16 2024-04-03 14:00:00+00:00  28.4  24.4  79.0   62.0   5.5  1009.5\n",
      "17 2024-04-03 15:00:00+00:00  27.7  24.5  83.0  251.0   3.7  1010.1\n",
      "18 2024-04-03 16:00:00+00:00  27.2  24.7  86.0  248.0   3.7  1009.9\n",
      "19 2024-04-03 17:00:00+00:00  26.7  24.5  88.0  245.0   3.7  1009.7\n",
      "20 2024-04-03 18:00:00+00:00  26.2  24.4  90.0  243.0   1.8  1009.5\n",
      "21 2024-04-03 19:00:00+00:00  25.9  24.3  91.0  240.0   1.8  1009.3\n",
      "22 2024-04-03 20:00:00+00:00  25.5  24.3  93.0  235.0   1.8  1009.1\n",
      "23 2024-04-03 21:00:00+00:00  25.2  24.0  93.0  224.0   1.8  1008.9\n"
     ]
    }
   ],
   "source": [
    "train_set = (read_frame(Entry.objects.all())[['time','temp','dwpt','rhum','wdir','wspd','pres']]).copy(deep=True)\n",
    "\n",
    "# Preparing predictions set\n",
    "predictions = (read_frame(Entry.objects.all().order_by('-id')[:next_entry_count])[['time','temp','dwpt','rhum','wdir','wspd','pres']]).copy(deep=True)\n",
    "predictions = predictions.sort_values(by='time')\n",
    "predictions.reset_index(drop=True, inplace=True)\n",
    "\n",
    "for index in range(0,len(predictions)):\n",
    "    predictions.loc[index, 'time'] += dt.timedelta(hours=next_entry_count)\n",
    "    \n",
    "# Test\n",
    "print(\"Train set\")\n",
    "print(train_set[len(train_set)-next_entry_count:])\n",
    "print(\"Test set prep\")\n",
    "print(predictions)"
   ]
  },
  {
   "cell_type": "code",
   "execution_count": 63,
   "id": "44e630c8",
   "metadata": {},
   "outputs": [
    {
     "ename": "SyntaxError",
     "evalue": "invalid syntax (478785665.py, line 11)",
     "output_type": "error",
     "traceback": [
      "\u001b[1;36m  Cell \u001b[1;32mIn[63], line 11\u001b[1;36m\u001b[0m\n\u001b[1;33m    train_set =\u001b[0m\n\u001b[1;37m                ^\u001b[0m\n\u001b[1;31mSyntaxError\u001b[0m\u001b[1;31m:\u001b[0m invalid syntax\n"
     ]
    }
   ],
   "source": [
    "# Implement rolling SARIMAX\n",
    "\n",
    "# Setting SARIMAX order\n",
    "non_seasonal_component = (0,1,0)\n",
    "seasonal_component = (1, 0, 1, 24)\n",
    "\n",
    "# Init rolling SARIMA\n",
    "for index in tqdm(range(0,next_entry_count)):\n",
    "    for dimension in dimensions:\n",
    "        if (index!=0)\n",
    "            row_to_append = predictions.iloc[[index]]\n",
    "            train_set = pd.concat([train_set, row_to_append], ignore_index=True)\n",
    "\n",
    "        # Init SARIMAX model\n",
    "        model = SARIMAX(train_set[dimension].values, order=non_seasonal_component, seasonal_order=seasonal_component)\n",
    "        model_fit = model.fit()\n",
    "\n",
    "        # Making predictions\n",
    "        prediction = model_fit.forecast()\n",
    "        predictions.loc[index, dimension] = prediction\n",
    "        \n",
    "        "
   ]
  },
  {
   "cell_type": "code",
   "execution_count": 85,
   "id": "a54beb5c",
   "metadata": {},
   "outputs": [
    {
     "name": "stdout",
     "output_type": "stream",
     "text": [
      "                       time  temp  dwpt  rhum   wdir wspd    pres\n",
      "0 2024-04-02 22:00:00+00:00  25.7  24.7  94.0  214.0  3.7  1008.8\n",
      "                           time  temp  dwpt  rhum   wdir  wspd    pres\n",
      "0     2021-01-01 00:00:00+00:00  23.0  16.1  65.0   20.0  11.2  1012.0\n",
      "1     2021-01-01 01:00:00+00:00  23.0  16.1  65.0   10.0   7.6  1013.0\n",
      "2     2021-01-01 02:00:00+00:00  24.0  16.0  61.0   10.0   7.6  1013.0\n",
      "3     2021-01-01 03:00:00+00:00  26.0  16.0  54.0   40.0  11.2  1013.0\n",
      "4     2021-01-01 04:00:00+00:00  28.0  16.0  48.0   40.0  11.2  1013.0\n",
      "...                         ...   ...   ...   ...    ...   ...     ...\n",
      "28506 2024-04-02 18:00:00+00:00  26.2  24.4  90.0  243.0   1.8  1009.5\n",
      "28507 2024-04-02 19:00:00+00:00  25.9  24.3  91.0  240.0   1.8  1009.3\n",
      "28508 2024-04-02 20:00:00+00:00  25.5  24.3  93.0  235.0   1.8  1009.1\n",
      "28509 2024-04-02 21:00:00+00:00  25.2  24.0  93.0  224.0   1.8  1008.9\n",
      "28510 2024-04-02 22:00:00+00:00  25.7  24.7  94.0  214.0   3.7  1008.8\n",
      "\n",
      "[28511 rows x 7 columns]\n"
     ]
    }
   ],
   "source": [
    "row_to_append = predictions.iloc[[0]]\n",
    "print(row_to_append)\n",
    "train_set = pd.concat([train_set, row_to_append], ignore_index=True)\n",
    "print(train_set)"
   ]
  },
  {
   "cell_type": "code",
   "execution_count": null,
   "id": "253577c2",
   "metadata": {},
   "outputs": [],
   "source": []
  }
 ],
 "metadata": {
  "kernelspec": {
   "display_name": "Django Shell-Plus",
   "language": "python",
   "name": "django_extensions"
  },
  "language_info": {
   "codemirror_mode": {
    "name": "ipython",
    "version": 3
   },
   "file_extension": ".py",
   "mimetype": "text/x-python",
   "name": "python",
   "nbconvert_exporter": "python",
   "pygments_lexer": "ipython3",
   "version": "3.11.2"
  }
 },
 "nbformat": 4,
 "nbformat_minor": 5
}
